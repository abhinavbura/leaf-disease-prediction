{
 "cells": [
  {
   "cell_type": "code",
   "execution_count": 16,
   "metadata": {
    "_cell_guid": "b1076dfc-b9ad-4769-8c92-a6c4dae69d19",
    "_uuid": "8f2839f25d086af736a60e9eeb907d3b93b6e0e5"
   },
   "outputs": [
    {
     "name": "stdout",
     "output_type": "stream",
     "text": [
      "['Alstonia Scholaris (P2)_diseased', 'Alstonia Scholaris (P2)_healthy', 'Arjun (P1)_diseased', 'Arjun (P1)_healthy', 'Chinar (P11)_diseased', 'Chinar (P11)_healthy', 'Gauva (P3)_diseased', 'Gauva (P3)_healthy', 'Jamun (P5)_diseased', 'Jamun (P5)_healthy', 'Jatropha (P6)_diseased', 'Jatropha (P6)_healthy', 'Lemon (P10)_diseased', 'Lemon (P10)_healthy', 'Mango (P0)_diseased', 'Mango (P0)_healthy', 'Pomegranate (P9)_diseased', 'Pomegranate (P9)_healthy', 'Pongamia Pinnata (P7)_diseased', 'Pongamia Pinnata (P7)_healthy']\n"
     ]
    }
   ],
   "source": [
    "\n",
    "import numpy as np # linear algebra\n",
    "import pandas as pd # data processing, CSV file I/O (e.g. pd.read_csv)\n",
    "import os\n",
    "import shutil\n",
    "import matplotlib.pyplot as plt\n",
    "%matplotlib inline \n",
    "from tensorflow.keras.utils import img_to_array, load_img\n",
    "\n",
    "from IPython.display import Image, display\n",
    "from sklearn.model_selection import train_test_split\n",
    "from keras.applications import ResNet50\n",
    "from tensorflow.keras.models import Sequential\n",
    "from keras.layers import Dense, Flatten, GlobalAveragePooling2D, Dropout\n",
    "from keras.applications.resnet50 import preprocess_input\n",
    "from keras.preprocessing.image import ImageDataGenerator\n",
    "\n",
    "# Input data files are available in the \"../input/\" directory.\n",
    "# For example, running this (by clicking run or pressing Shift+Enter) will list the files in the input directory\n",
    "import torch\n",
    "\n",
    "import os\n",
    "print(os.listdir(\"leafimages/train\"))\n",
    "# Any results you write to the current directory are saved as output."
   ]
  },
  {
   "cell_type": "code",
   "execution_count": null,
   "metadata": {},
   "outputs": [],
   "source": [
    "#this basically takes one leaf image from every file in the dataset and prints the name of the leaf with the image. it gets the name from the folder name.\n",
    "image_paths=[]\n",
    "names=[]\n",
    "root=\"leafimages/train/\"\n",
    "for folder in os.listdir(root):\n",
    "    fi=os.listdir(root+folder)[0]\n",
    "    image_paths.append(root+\"/\"+folder+\"/\"+fi)\n",
    "    c=0\n",
    "    w=\"\"\n",
    "    for a in folder[::-1]:\n",
    "       if a==\" \":\n",
    "           c=1\n",
    "       if c==1:\n",
    "            w+=a\n",
    "    names.append(w[::-1])\n",
    "\n",
    "num_rows = 4\n",
    "num_cols = 5\n",
    "fig, axes = plt.subplots(num_rows, num_cols, figsize=(8, 8))\n",
    "axes = axes.flatten()\n",
    "for i, image_path in enumerate(image_paths):\n",
    "    img=load_img(image_path, target_size=(256,256))\n",
    "    axes[i].imshow(img)\n",
    "    axes[i].axis(\"off\")\n",
    "    axes[i].text(0.5, -0.1, names[i], size=10, ha=\"center\", transform=axes[i].transAxes)\n",
    "\n",
    "\n",
    "plt.tight_layout()\n",
    "\n",
    "# Show the plot\n",
    "plt.show()"
   ]
  },
  {
   "cell_type": "code",
   "execution_count": 20,
   "metadata": {
    "_cell_guid": "79c7e3d0-c299-4dcb-8224-4455121ee9b0",
    "_uuid": "d629ff2d2480ee46fbb7e2d37f6b5fab8052498a"
   },
   "outputs": [
    {
     "ename": "NameError",
     "evalue": "name 'os' is not defined",
     "output_type": "error",
     "traceback": [
      "\u001b[1;31m---------------------------------------------------------------------------\u001b[0m",
      "\u001b[1;31mNameError\u001b[0m                                 Traceback (most recent call last)",
      "\u001b[1;32md:\\scripts\\ranvi\\plants_disease_prediction\\resnet50_leafprediction.ipynb Cell 3\u001b[0m line \u001b[0;36m1\n\u001b[1;32m----> <a href='vscode-notebook-cell:/d%3A/scripts/ranvi/plants_disease_prediction/resnet50_leafprediction.ipynb#W2sZmlsZQ%3D%3D?line=0'>1</a>\u001b[0m labels \u001b[39m=\u001b[39m os\u001b[39m.\u001b[39mlistdir(\u001b[39m\"\u001b[39m\u001b[39mleafimages/train\u001b[39m\u001b[39m\"\u001b[39m)\n",
      "\u001b[1;31mNameError\u001b[0m: name 'os' is not defined"
     ]
    }
   ],
   "source": [
    "labels = os.listdir(\"leafimages/train\")"
   ]
  },
  {
   "cell_type": "code",
   "execution_count": 7,
   "metadata": {
    "_uuid": "945e16aed25dcb49f6ba3b4bde6bc151f9ddbfb3"
   },
   "outputs": [],
   "source": [
    "num_classes = len(set(labels))\n",
    "resnet_weights_path = '../input/resnet50/resnet50_weights_tf_dim_ordering_tf_kernels_notop.h5'\n",
    "\n",
    "# Create model\n",
    "model = Sequential()\n",
    "model.add(ResNet50(include_top=False, pooling='avg', weights=\"imagenet\"))\n",
    "model.add(Dense(256, activation='relu'))\n",
    "model.add(Dropout(0.5))\n",
    "model.add(Dense(num_classes, activation='softmax'))\n",
    "\n",
    "# Do not train first layer (ResNet) as it is already pre-trained\n",
    "model.layers[0].trainable = False\n",
    "\n",
    "# Compile model\n",
    "from tensorflow.keras import optimizers\n",
    "\n",
    "# sgd = optimizers.SGD(learning_rate= 0.01, decay = 1e-6, momentum = 0.9, nesterov = True)\n",
    "model.compile(optimizer='adam', loss='categorical_crossentropy', metrics=['accuracy'])"
   ]
  },
  {
   "cell_type": "markdown",
   "metadata": {},
   "source": []
  },
  {
   "cell_type": "code",
   "execution_count": 8,
   "metadata": {
    "_uuid": "8c32c86e7f4717ae2790d143b0737c173c6b3711"
   },
   "outputs": [
    {
     "name": "stdout",
     "output_type": "stream",
     "text": [
      "Model: \"sequential\"\n",
      "_________________________________________________________________\n",
      " Layer (type)                Output Shape              Param #   \n",
      "=================================================================\n",
      " resnet50 (Functional)       (None, 2048)              23587712  \n",
      "                                                                 \n",
      " dense (Dense)               (None, 256)               524544    \n",
      "                                                                 \n",
      " dropout (Dropout)           (None, 256)               0         \n",
      "                                                                 \n",
      " dense_1 (Dense)             (None, 20)                5140      \n",
      "                                                                 \n",
      "=================================================================\n",
      "Total params: 24117396 (92.00 MB)\n",
      "Trainable params: 529684 (2.02 MB)\n",
      "Non-trainable params: 23587712 (89.98 MB)\n",
      "_________________________________________________________________\n"
     ]
    }
   ],
   "source": [
    "model.summary()"
   ]
  },
  {
   "cell_type": "code",
   "execution_count": 9,
   "metadata": {
    "_uuid": "4416c43522b5406663b67e8b305c88d4b11f7371"
   },
   "outputs": [
    {
     "name": "stdout",
     "output_type": "stream",
     "text": [
      "Found 2726 images belonging to 20 classes.\n",
      "Found 671 images belonging to 20 classes.\n"
     ]
    }
   ],
   "source": [
    "train_folder = 'leafimages/train'\n",
    "\n",
    "image_size = 224\n",
    "data_generator = ImageDataGenerator(preprocessing_function=preprocess_input,\n",
    "                                    horizontal_flip=True,\n",
    "                                    width_shift_range=0.2,\n",
    "                                    height_shift_range=0.2,\n",
    "                                    validation_split=0.2)# set validation split\n",
    "\n",
    "train_generator = data_generator.flow_from_directory(\n",
    "    train_folder,\n",
    "    target_size=(image_size, image_size),\n",
    "    batch_size=24,\n",
    "    class_mode='categorical',\n",
    "    subset='training'\n",
    "    )\n",
    "validation_generator = data_generator.flow_from_directory(\n",
    "    train_folder,\n",
    "    target_size=(image_size, image_size),\n",
    "    batch_size=24,\n",
    "    class_mode='categorical',\n",
    "    subset='validation'\n",
    "    )"
   ]
  },
  {
   "cell_type": "code",
   "execution_count": 19,
   "metadata": {},
   "outputs": [],
   "source": [
    "t_img, label=train_generator.next()\n",
    "def plotimg(imgarr,label):\n",
    "    for im, l in zip(imgarr,label):\n",
    "        plt.figure(figsize=(5,5))\n",
    "        plt.imshow(im/255)\n",
    "        plt.show()"
   ]
  },
  {
   "cell_type": "code",
   "execution_count": null,
   "metadata": {},
   "outputs": [],
   "source": [
    "count=3 #change this to print the number of preprocessed images\n",
    "plotimg(t_img[:count],label[:count])"
   ]
  },
  {
   "cell_type": "code",
   "execution_count": 21,
   "metadata": {
    "_uuid": "522a63b3038623d905cc7e9efc0ab5c918a89b9b"
   },
   "outputs": [],
   "source": [
    "NUM_EPOCHS = 5\n",
    "EARLY_STOP_PATIENCE = 5"
   ]
  },
  {
   "cell_type": "code",
   "execution_count": 13,
   "metadata": {
    "_uuid": "68729928f80fc2fbc538cff9ae484cb9e611668a"
   },
   "outputs": [],
   "source": [
    "# Early stopping & checkpointing the best model in ../working dir & restoring that as our model for prediction\n",
    "from tensorflow.keras.callbacks import EarlyStopping, ModelCheckpoint\n",
    "\n",
    "cb_early_stopper = EarlyStopping(monitor = 'val_loss', patience = EARLY_STOP_PATIENCE)\n",
    "cb_checkpointer = ModelCheckpoint(filepath = 'best.hdf5',\n",
    "                                  monitor = 'val_loss',\n",
    "                                  save_best_only = True,\n",
    "                                  mode = 'auto')"
   ]
  },
  {
   "cell_type": "code",
   "execution_count": 13,
   "metadata": {
    "_uuid": "5bd64f3778e0fcd9da58aee2fea7076e47492196"
   },
   "outputs": [
    {
     "name": "stderr",
     "output_type": "stream",
     "text": [
      "C:\\Users\\Anudeep Bura\\AppData\\Local\\Temp\\ipykernel_1432\\3894681618.py:3: UserWarning: `Model.fit_generator` is deprecated and will be removed in a future version. Please use `Model.fit`, which supports generators.\n",
      "  fit_history = model.fit_generator(\n"
     ]
    },
    {
     "name": "stdout",
     "output_type": "stream",
     "text": [
      "Epoch 1/5\n",
      "10/10 [==============================] - ETA: 0s - loss: 3.2663 - accuracy: 0.1417"
     ]
    },
    {
     "name": "stderr",
     "output_type": "stream",
     "text": [
      "c:\\Users\\Anudeep Bura\\AppData\\Local\\Programs\\Python\\Python311\\Lib\\site-packages\\keras\\src\\engine\\training.py:3000: UserWarning: You are saving your model as an HDF5 file via `model.save()`. This file format is considered legacy. We recommend using instead the native Keras format, e.g. `model.save('my_model.keras')`.\n",
      "  saving_api.save_model(\n"
     ]
    },
    {
     "name": "stdout",
     "output_type": "stream",
     "text": [
      "10/10 [==============================] - 137s 14s/step - loss: 3.2663 - accuracy: 0.1417 - val_loss: 2.3585 - val_accuracy: 0.3083\n",
      "Epoch 2/5\n",
      "10/10 [==============================] - 122s 13s/step - loss: 2.5382 - accuracy: 0.2500 - val_loss: 1.9841 - val_accuracy: 0.4542\n",
      "Epoch 3/5\n",
      "10/10 [==============================] - 122s 13s/step - loss: 2.0749 - accuracy: 0.3667 - val_loss: 1.7154 - val_accuracy: 0.5333\n",
      "Epoch 4/5\n",
      "10/10 [==============================] - 108s 11s/step - loss: 1.8801 - accuracy: 0.4167 - val_loss: 1.5844 - val_accuracy: 0.6000\n",
      "Epoch 5/5\n",
      "10/10 [==============================] - 104s 11s/step - loss: 1.5447 - accuracy: 0.5208 - val_loss: 1.3186 - val_accuracy: 0.5917\n"
     ]
    }
   ],
   "source": [
    "import math\n",
    "\n",
    "fit_history = model.fit_generator(\n",
    "    train_generator,\n",
    "    steps_per_epoch=10,\n",
    "    validation_data=validation_generator,\n",
    "    validation_steps=10,\n",
    "    epochs=NUM_EPOCHS,\n",
    "    callbacks=[cb_checkpointer, cb_early_stopper])\n"
   ]
  },
  {
   "cell_type": "code",
   "execution_count": null,
   "metadata": {},
   "outputs": [],
   "source": [
    "\n",
    "model.load_weights(\"best.hdf5\")"
   ]
  },
  {
   "cell_type": "code",
   "execution_count": 14,
   "metadata": {
    "_uuid": "103fec14415d4f83f6ca7a1591e2813a6bdf003e"
   },
   "outputs": [
    {
     "name": "stdout",
     "output_type": "stream",
     "text": [
      "dict_keys(['loss', 'accuracy', 'val_loss', 'val_accuracy'])\n"
     ]
    }
   ],
   "source": [
    "print(fit_history.history.keys())"
   ]
  },
  {
   "cell_type": "code",
   "execution_count": 15,
   "metadata": {
    "_uuid": "9e8e5afef6736a7092f155ad235191e938cb197b"
   },
   "outputs": [
    {
     "data": {
      "image/png": "[encoded data removed]",
      "text/plain": [
       "<Figure size 1500x800 with 2 Axes>"
      ]
     },
     "metadata": {},
     "output_type": "display_data"
    }
   ],
   "source": [
    "plt.figure(1, figsize = (15,8)) \n",
    "    \n",
    "plt.subplot(221)  \n",
    "plt.plot(fit_history.history['accuracy'])  \n",
    "plt.plot(fit_history.history['val_accuracy'])  \n",
    "plt.title('model accuracy')  \n",
    "plt.ylabel('accuracy')  \n",
    "plt.xlabel('epoch')  \n",
    "plt.legend(['train', 'valid']) \n",
    "    \n",
    "plt.subplot(222)  \n",
    "plt.plot(fit_history.history['loss'])  \n",
    "plt.plot(fit_history.history['val_loss'])  \n",
    "plt.title('model loss')  \n",
    "plt.ylabel('loss')  \n",
    "plt.xlabel('epoch')  \n",
    "plt.legend(['train', 'valid']) \n",
    "\n",
    "plt.show()"
   ]
  },
  {
   "cell_type": "code",
   "execution_count": 16,
   "metadata": {},
   "outputs": [
    {
     "name": "stdout",
     "output_type": "stream",
     "text": [
      "1/1 [==============================] - 1s 1s/step\n",
      "9\n"
     ]
    }
   ],
   "source": [
    "from tensorflow.keras.utils import img_to_array, load_img\n",
    "import numpy as np\n",
    "path=\"leafimages/train/Alstonia Scholaris (P2)_diseased/0014_0003.JPG\"\n",
    "img=load_img(path, target_size=(256,256))\n",
    "\n",
    "i=img_to_array(img)\n",
    "img=np.expand_dims(i,axis=0)\n",
    "pred=np.argmax(model.predict(img))\n",
    "print(pred)"
   ]
  },
  {
   "cell_type": "code",
   "execution_count": 18,
   "metadata": {},
   "outputs": [
    {
     "name": "stdout",
     "output_type": "stream",
     "text": [
      "{0: 'Alstonia Scholaris (P2)_diseased', 1: 'Alstonia Scholaris (P2)_healthy', 2: 'Arjun (P1)_diseased', 3: 'Arjun (P1)_healthy', 4: 'Chinar (P11)_diseased', 5: 'Chinar (P11)_healthy', 6: 'Gauva (P3)_diseased', 7: 'Gauva (P3)_healthy', 8: 'Jamun (P5)_diseased', 9: 'Jamun (P5)_healthy', 10: 'Jatropha (P6)_diseased', 11: 'Jatropha (P6)_healthy', 12: 'Lemon (P10)_diseased', 13: 'Lemon (P10)_healthy', 14: 'Mango (P0)_diseased', 15: 'Mango (P0)_healthy', 16: 'Pomegranate (P9)_diseased', 17: 'Pomegranate (P9)_healthy', 18: 'Pongamia Pinnata (P7)_diseased', 19: 'Pongamia Pinnata (P7)_healthy'}\n"
     ]
    }
   ],
   "source": [
    "ref=dict(zip(list(train_generator.class_indices.values()),list(train_generator.class_indices.keys())))\n",
    "print(ref)"
   ]
  },
  {
   "cell_type": "code",
   "execution_count": null,
   "metadata": {},
   "outputs": [],
   "source": [
    "import torch\n",
    "def drawbounding(path,dis):\n",
    "    model = torch.hub.load('yolov5','custom', path=\"last_t.pt\",source='local')\n",
    "    results = model(path)\n",
    "    results.show()\n",
    "    areas=[]\n",
    "    den=0\n",
    "    num=0\n",
    "    box=results.xyxy[0]\n",
    "    for i in range(len(box)):\n",
    "        area=(float(box[i][0])-float(box[i][2]))*(float(box[i][1])-float(box[i][3]))\n",
    "        areas.append(areas)\n",
    "        if i==0:\n",
    "            den+=area\n",
    "        else:\n",
    "            num+=area\n",
    "    print(\"infected area:\"+str((num/den)*100)+\"%\")"
   ]
  },
  {
   "cell_type": "code",
   "execution_count": 19,
   "metadata": {},
   "outputs": [],
   "source": [
    "import matplotlib.pyplot as plt\n",
    "ref=dict(zip(list(train_generator.class_indices.values()),list(train_generator.class_indices.keys())))\n",
    "def predi(path):\n",
    "    img=load_img(path, target_size=(256,256))\n",
    "    plt.figure(figsize=(5,5))\n",
    "    plt.imshow(img)\n",
    "    i=img_to_array(img)\n",
    "    img=np.expand_dims(i,axis=0)\n",
    "    pred=np.argmax(model.predict(img))\n",
    "    print(ref[pred])\n",
    "    drawbounding(path,pred)\n",
    "    plt.title(\"class: \"+ref[pred])\n",
    "    \n",
    "    plt.show()"
   ]
  },
  {
   "cell_type": "code",
   "execution_count": null,
   "metadata": {},
   "outputs": [],
   "source": [
    "predi(path)"
   ]
  },
  {
   "cell_type": "code",
   "execution_count": null,
   "metadata": {},
   "outputs": [],
   "source": [
    "import torch\n",
    "path=\"leafimages/val/Pomegranate (P9)_diseased/0020_0027.JPG\"\n",
    "model = torch.hub.load('yolov5','custom', path=\"last_t.pt\",source='local')\n",
    "results = model(path)\n",
    "results.show()\n"
   ]
  },
  {
   "cell_type": "code",
   "execution_count": 16,
   "metadata": {},
   "outputs": [
    {
     "name": "stdout",
     "output_type": "stream",
     "text": [
      "\n",
      " 2236.875\n"
     ]
    },
    {
     "data": {
      "text/plain": [
       "1843819.2370762825"
      ]
     },
     "execution_count": 16,
     "metadata": {},
     "output_type": "execute_result"
    }
   ],
   "source": [
    "print('\\n', float(results.xyxy[0][0][0]))\n"
   ]
  },
  {
   "cell_type": "code",
   "execution_count": 17,
   "metadata": {},
   "outputs": [
    {
     "data": {
      "text/plain": [
       "7"
      ]
     },
     "execution_count": 17,
     "metadata": {},
     "output_type": "execute_result"
    }
   ],
   "source": [
    "len(box)"
   ]
  },
  {
   "cell_type": "code",
   "execution_count": 18,
   "metadata": {},
   "outputs": [
    {
     "name": "stdout",
     "output_type": "stream",
     "text": [
      "69.80123332982643\n"
     ]
    }
   ],
   "source": [
    "areas=[]\n",
    "den=0\n",
    "num=0\n",
    "box=results.xyxy[0]\n",
    "for i in range(len(box)):\n",
    "    area=(float(box[i][0])-float(box[i][2]))*(float(box[i][1])-float(box[i][3]))\n",
    "    areas.append(areas)\n",
    "    if i==0:\n",
    "        den+=area\n",
    "    else:\n",
    "        num+=area\n",
    "print((num/den)*100)"
   ]
  },
  {
   "cell_type": "code",
   "execution_count": 8,
   "metadata": {},
   "outputs": [],
   "source": []
  },
  {
   "cell_type": "code",
   "execution_count": null,
   "metadata": {},
   "outputs": [],
   "source": [
    "path=\"leafimages/val/Jamun (P5)_diseased/0017_0011.JPG\"\n",
    "drawbounding(path)"
   ]
  },
  {
   "cell_type": "code",
   "execution_count": null,
   "metadata": {},
   "outputs": [],
   "source": []
  }
 ],
 "metadata": {
  "kernelspec": {
   "display_name": "Python 3",
   "language": "python",
   "name": "python3"
  },
  "language_info": {
   "codemirror_mode": {
    "name": "ipython",
    "version": 3
   },
   "file_extension": ".py",
   "mimetype": "text/x-python",
   "name": "python",
   "nbconvert_exporter": "python",
   "pygments_lexer": "ipython3",
   "version": "3.11.6"
  }
 },
 "nbformat": 4,
 "nbformat_minor": 1
}
